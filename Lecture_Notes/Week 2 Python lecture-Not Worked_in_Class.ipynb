{
  "nbformat": 4,
  "nbformat_minor": 0,
  "metadata": {
    "kernelspec": {
      "display_name": "Python 3",
      "language": "python",
      "name": "python3"
    },
    "language_info": {
      "codemirror_mode": {
        "name": "ipython",
        "version": 3
      },
      "file_extension": ".py",
      "mimetype": "text/x-python",
      "name": "python",
      "nbconvert_exporter": "python",
      "pygments_lexer": "ipython3",
      "version": "3.7.4"
    },
    "colab": {
      "name": "Week 2 Python lecture-Not Worked.ipynb",
      "provenance": [],
      "include_colab_link": true
    }
  },
  "cells": [
    {
      "cell_type": "markdown",
      "metadata": {
        "id": "view-in-github",
        "colab_type": "text"
      },
      "source": [
        "<a href=\"https://colab.research.google.com/github/ericking1992/Geol-572-Week2/blob/master/Lecture_Notes/Week%202%20Python%20lecture-Not%20Worked_in_Class.ipynb\" target=\"_parent\"><img src=\"https://colab.research.google.com/assets/colab-badge.svg\" alt=\"Open In Colab\"/></a>"
      ]
    },
    {
      "cell_type": "markdown",
      "metadata": {
        "id": "POGoSXJYNA2t",
        "colab_type": "text"
      },
      "source": [
        "<a id='Top'></a>\n",
        "# <center>Week 2 Lecture Notes: Lists of numbers; Plotting in Python</center>\n",
        "\n",
        "<ul>\n",
        "    <li><a href='#List'>I. Lists</a></li>\n",
        "    <li><a href='#Index'>II. Indexing and Slicing</a></li>\n",
        "    <li><a href='#Loop'>III. Looping through Lists</a></li>\n",
        "    <li><a href='#Plotting'>IV. Plotting</a></li>\n",
        "</ul>"
      ]
    },
    {
      "cell_type": "markdown",
      "metadata": {
        "id": "sukvRv-0NA2x",
        "colab_type": "text"
      },
      "source": [
        "<a id='List'></a>\n",
        "\n",
        "# I. Lists in Python\n",
        "\n",
        "Recommended Resources: \n",
        "https://www.geeksforgeeks.org/python-list/\n"
      ]
    },
    {
      "cell_type": "markdown",
      "metadata": {
        "id": "LT-PeLFyNA2z",
        "colab_type": "text"
      },
      "source": [
        "There are many different types of data structures in Python; as the semester proceeds, you will be introduced to many (but not all) all these. \n",
        "\n",
        "For the next couple of weeks, we are going to focus on time-series data, which can be stored in Python as a sequence of values. There are many types of sequences in Python; you have already seen one of those (`strings`). In this notebook, we are going to focus on one of the most versatile Python sequences, the <b>list</b>. "
      ]
    },
    {
      "cell_type": "markdown",
      "metadata": {
        "id": "5W3QDT82NA23",
        "colab_type": "text"
      },
      "source": [
        "Lists are created by inserting a sequence of comma-separated values between square brackets, as follows:"
      ]
    },
    {
      "cell_type": "code",
      "metadata": {
        "id": "WYqjTHG9NfOc",
        "colab_type": "code",
        "colab": {
          "base_uri": "https://localhost:8080/",
          "height": 34
        },
        "outputId": "86a675e3-97c8-4422-b42b-d29a45a21e32"
      },
      "source": [
        "testlist = [1,2,3]\n",
        "print(testlist)"
      ],
      "execution_count": 1,
      "outputs": [
        {
          "output_type": "stream",
          "text": [
            "[1, 2, 3]\n"
          ],
          "name": "stdout"
        }
      ]
    },
    {
      "cell_type": "code",
      "metadata": {
        "id": "E4dnU59aNwkK",
        "colab_type": "code",
        "colab": {
          "base_uri": "https://localhost:8080/",
          "height": 34
        },
        "outputId": "40108f22-d67f-4f96-f738-bab429222f21"
      },
      "source": [
        "testlist = [1,2,'three']\n",
        "print(testlist)"
      ],
      "execution_count": 2,
      "outputs": [
        {
          "output_type": "stream",
          "text": [
            "[1, 2, 'three']\n"
          ],
          "name": "stdout"
        }
      ]
    },
    {
      "cell_type": "code",
      "metadata": {
        "id": "KTrse3DZOFVq",
        "colab_type": "code",
        "colab": {
          "base_uri": "https://localhost:8080/",
          "height": 34
        },
        "outputId": "d6787756-8d3b-4f61-cadb-8a464591803c"
      },
      "source": [
        "# confirm data type is a list\n",
        "type(testlist)"
      ],
      "execution_count": 3,
      "outputs": [
        {
          "output_type": "execute_result",
          "data": {
            "text/plain": [
              "list"
            ]
          },
          "metadata": {
            "tags": []
          },
          "execution_count": 3
        }
      ]
    },
    {
      "cell_type": "code",
      "metadata": {
        "id": "PWyT4tVzOnqz",
        "colab_type": "code",
        "colab": {
          "base_uri": "https://localhost:8080/",
          "height": 34
        },
        "outputId": "704d472e-0c15-4dc2-bc87-143c08bacb80"
      },
      "source": [
        "testlist[0]"
      ],
      "execution_count": 4,
      "outputs": [
        {
          "output_type": "execute_result",
          "data": {
            "text/plain": [
              "1"
            ]
          },
          "metadata": {
            "tags": []
          },
          "execution_count": 4
        }
      ]
    },
    {
      "cell_type": "code",
      "metadata": {
        "id": "GQs-l0WsOv77",
        "colab_type": "code",
        "colab": {
          "base_uri": "https://localhost:8080/",
          "height": 34
        },
        "outputId": "7569cbae-569b-4d0e-814f-2383314a3771"
      },
      "source": [
        "type(testlist[2])"
      ],
      "execution_count": 5,
      "outputs": [
        {
          "output_type": "execute_result",
          "data": {
            "text/plain": [
              "str"
            ]
          },
          "metadata": {
            "tags": []
          },
          "execution_count": 5
        }
      ]
    },
    {
      "cell_type": "code",
      "metadata": {
        "id": "23l918stO150",
        "colab_type": "code",
        "colab": {
          "base_uri": "https://localhost:8080/",
          "height": 34
        },
        "outputId": "8f55d5d6-c8a7-49d9-ced2-2355eec7720f"
      },
      "source": [
        "type(testlist[0])"
      ],
      "execution_count": 6,
      "outputs": [
        {
          "output_type": "execute_result",
          "data": {
            "text/plain": [
              "int"
            ]
          },
          "metadata": {
            "tags": []
          },
          "execution_count": 6
        }
      ]
    },
    {
      "cell_type": "code",
      "metadata": {
        "id": "HQHlXUB8PNzz",
        "colab_type": "code",
        "colab": {
          "base_uri": "https://localhost:8080/",
          "height": 34
        },
        "outputId": "e15a05cb-df4f-4cd6-8269-7912d07c6ae0"
      },
      "source": [
        "testlist.append(4)\n",
        "print(testlist)"
      ],
      "execution_count": 8,
      "outputs": [
        {
          "output_type": "stream",
          "text": [
            "[1, 2, 'three', 4, 4]\n"
          ],
          "name": "stdout"
        }
      ]
    },
    {
      "cell_type": "markdown",
      "metadata": {
        "id": "DUJXb7HANA25",
        "colab_type": "text"
      },
      "source": [
        "Note that lists are rather versatile, and can contain any combination of integers, floats, strings, etc."
      ]
    },
    {
      "cell_type": "markdown",
      "metadata": {
        "id": "Tm-eSIvtNA26",
        "colab_type": "text"
      },
      "source": [
        "Recall that it is useful to check data types when troubleshooting code. You may want to determine that you are indeed working with a list, or that all entries in a list are of the same data type."
      ]
    },
    {
      "cell_type": "markdown",
      "metadata": {
        "id": "Hqy8E-kvNA28",
        "colab_type": "text"
      },
      "source": [
        "There are a number of actions that we can perform on lists. The following example shows how to append the integer 4 to our testlist."
      ]
    },
    {
      "cell_type": "markdown",
      "metadata": {
        "id": "E4fmXITdNA2_",
        "colab_type": "text"
      },
      "source": [
        "Append is what we refer to as a <b>method</b>, which is similar to a function. Unlike a function, which would create a new list, methods act directly on an object (in this case, testlist). \n",
        "\n",
        "<b>Be cautious when using methods, because they often change your original data.</b>"
      ]
    },
    {
      "cell_type": "markdown",
      "metadata": {
        "id": "4G1d-vX7NA3B",
        "colab_type": "text"
      },
      "source": [
        "### Practice exercise"
      ]
    },
    {
      "cell_type": "markdown",
      "metadata": {
        "id": "8diqoFQ0NA3C",
        "colab_type": "text"
      },
      "source": [
        "Calculate the mean and median from the following list. \n",
        "\n",
        "Hint 1: you should rely on an existing Python package.\n",
        "\n",
        "Hint 2: Google is your friend."
      ]
    },
    {
      "cell_type": "code",
      "metadata": {
        "id": "KWY55SV-NA3E",
        "colab_type": "code",
        "colab": {}
      },
      "source": [
        "# list to perform statistics on\n",
        "statlist = [100, 102.1, 250, 110.3, 99.12, 98]"
      ],
      "execution_count": 0,
      "outputs": []
    },
    {
      "cell_type": "code",
      "metadata": {
        "id": "mVnwR5yjNA3L",
        "colab_type": "code",
        "colab": {}
      },
      "source": [
        "# Write code here\n",
        "\n",
        "\n",
        "\n",
        "\n",
        "\n",
        "\n",
        "\n",
        "\n",
        "\n",
        "\n",
        "\n",
        "\n",
        "\n",
        "\n",
        "\n",
        "\n",
        "\n",
        "\n",
        "\n",
        "\n",
        "\n",
        "\n",
        "\n",
        "\n",
        "\n",
        "\n",
        "\n",
        "\n",
        "\n",
        "\n",
        "\n",
        "\n",
        "\n",
        "\n",
        "\n",
        "\n",
        "\n",
        "\n",
        "\n",
        "\n",
        "\n",
        "\n",
        "\n",
        "\n",
        "\n",
        "\n",
        "\n"
      ],
      "execution_count": 0,
      "outputs": []
    },
    {
      "cell_type": "code",
      "metadata": {
        "id": "FU1KTyVPNA3R",
        "colab_type": "code",
        "colab": {},
        "outputId": "fd91eff0-c3d9-4bba-a438-e246611098de"
      },
      "source": [
        "# Answer\n",
        "import statistics\n",
        "meanlist = statistics.mean(statlist)\n",
        "print(meanlist)"
      ],
      "execution_count": 0,
      "outputs": [
        {
          "output_type": "stream",
          "text": [
            "126.58666666666667\n"
          ],
          "name": "stdout"
        }
      ]
    },
    {
      "cell_type": "markdown",
      "metadata": {
        "id": "MD89uZW4NA3W",
        "colab_type": "text"
      },
      "source": [
        "<a id='Index'></a>\n",
        "\n",
        "# II. Indexing and slicing\n",
        "\n",
        "We often need to access a specific value from a list, called <b>indexing</b>. Let's see what happens when we index `testlist` at index value 1. This is done by writing index-value within closed brackets immediately following the name of a pre-defined list:"
      ]
    },
    {
      "cell_type": "code",
      "metadata": {
        "id": "eN3v0Pv8QKvO",
        "colab_type": "code",
        "colab": {
          "base_uri": "https://localhost:8080/",
          "height": 34
        },
        "outputId": "14224dd7-4683-478f-bf19-54dc61c04cf0"
      },
      "source": [
        "testlist = [1,2,3]\n",
        "testlist[1]"
      ],
      "execution_count": 9,
      "outputs": [
        {
          "output_type": "execute_result",
          "data": {
            "text/plain": [
              "2"
            ]
          },
          "metadata": {
            "tags": []
          },
          "execution_count": 9
        }
      ]
    },
    {
      "cell_type": "code",
      "metadata": {
        "id": "LHaG_7NKQz9l",
        "colab_type": "code",
        "colab": {
          "base_uri": "https://localhost:8080/",
          "height": 34
        },
        "outputId": "daa5d3af-edca-4d4f-ed81-b491ef81b89e"
      },
      "source": [
        "testlist[-1]"
      ],
      "execution_count": 10,
      "outputs": [
        {
          "output_type": "execute_result",
          "data": {
            "text/plain": [
              "3"
            ]
          },
          "metadata": {
            "tags": []
          },
          "execution_count": 10
        }
      ]
    },
    {
      "cell_type": "code",
      "metadata": {
        "id": "TpMqHMxiROle",
        "colab_type": "code",
        "colab": {
          "base_uri": "https://localhost:8080/",
          "height": 34
        },
        "outputId": "d4dec22d-1730-4a10-8a10-7ea77ee9661f"
      },
      "source": [
        "# slice out the first two values in the list \n",
        "testlist[0:2]"
      ],
      "execution_count": 12,
      "outputs": [
        {
          "output_type": "execute_result",
          "data": {
            "text/plain": [
              "[1, 2]"
            ]
          },
          "metadata": {
            "tags": []
          },
          "execution_count": 12
        }
      ]
    },
    {
      "cell_type": "code",
      "metadata": {
        "id": "aaEYBJoWSvzo",
        "colab_type": "code",
        "colab": {
          "base_uri": "https://localhost:8080/",
          "height": 34
        },
        "outputId": "2635f21d-d82f-4c4d-efab-552829a39356"
      },
      "source": [
        "testlist[:2]"
      ],
      "execution_count": 15,
      "outputs": [
        {
          "output_type": "execute_result",
          "data": {
            "text/plain": [
              "[1, 2]"
            ]
          },
          "metadata": {
            "tags": []
          },
          "execution_count": 15
        }
      ]
    },
    {
      "cell_type": "code",
      "metadata": {
        "id": "_6hYBRm3SK2n",
        "colab_type": "code",
        "colab": {
          "base_uri": "https://localhost:8080/",
          "height": 34
        },
        "outputId": "7738b356-bd1a-4493-c56d-485e971c661b"
      },
      "source": [
        "# slice out the last two values in the list\n",
        "testlist[-2:]"
      ],
      "execution_count": 14,
      "outputs": [
        {
          "output_type": "execute_result",
          "data": {
            "text/plain": [
              "[2, 3]"
            ]
          },
          "metadata": {
            "tags": []
          },
          "execution_count": 14
        }
      ]
    },
    {
      "cell_type": "markdown",
      "metadata": {
        "id": "fVeMF7PtNA3X",
        "colab_type": "text"
      },
      "source": [
        "If you are used to coding in other languages, you might have expeted this to return the value 1, but this actually returns the value 2. <b>Remember that Python is 0-indexed, so to return the first value in a list, you need to access index 0.</b> "
      ]
    },
    {
      "cell_type": "markdown",
      "metadata": {
        "id": "3q8GifFfNA3Z",
        "colab_type": "text"
      },
      "source": [
        "To extract the last value, you need to access index-2."
      ]
    },
    {
      "cell_type": "markdown",
      "metadata": {
        "id": "sQp7-fqaNA3a",
        "colab_type": "text"
      },
      "source": [
        "Trying to access index-3 will result in a `IndexError` if the list only contains three values."
      ]
    },
    {
      "cell_type": "markdown",
      "metadata": {
        "id": "Ng1lqXpUNA3b",
        "colab_type": "text"
      },
      "source": [
        "A handy trick is that Python uses negative values to count backward, so you can also access the -1 index to return the last value in a list."
      ]
    },
    {
      "cell_type": "markdown",
      "metadata": {
        "id": "JiT1TppWNA3c",
        "colab_type": "text"
      },
      "source": [
        "Often a coder needs to access multiple values of a list, called slicing. Let's slice out the first two values. This is done like indexing, but rather than a single value between the square brackets, the coder defines start:end instead. \n",
        "\n",
        "Since we are slicing the first two values, you might expect the following to work:"
      ]
    },
    {
      "cell_type": "markdown",
      "metadata": {
        "id": "eQl2D71KNA3d",
        "colab_type": "text"
      },
      "source": [
        "The above code returns a list (hence the square brackets in the output), but only one value within the list, the first one. The correct code is to write `testlist[0:2]` to return a list with only the first two values:"
      ]
    },
    {
      "cell_type": "markdown",
      "metadata": {
        "id": "HLqIta0FNA3f",
        "colab_type": "text"
      },
      "source": [
        "The following image clarifies how slicing works, only in this case it is working on strings rather than lists. When slicing, the start value indicates the tick mark defining the start of the slice, while the end value indicates the tick mark defining the end of the slice. In this case, slicing from 3:8 would return 'KSFOR'. \n",
        "\n",
        "![Image of slicing](https://media.geeksforgeeks.org/wp-content/uploads/List-Slicing.jpg)\n",
        "\n",
        "Image from https://www.geeksforgeeks.org/python-list/. \n",
        "\n",
        "Let's code it up to confirm."
      ]
    },
    {
      "cell_type": "markdown",
      "metadata": {
        "id": "DPnOm8fhNA3h",
        "colab_type": "text"
      },
      "source": [
        "Note that when slicing, from the begining of a string to some specified point, you don't have to type the 0-index. Similarly, you don't have to type the last index when slicing a section at the end of a sequence (string, list).\n",
        "\n",
        "The latter is particularly useful if a coder does not know apriori how long the list is going to be, or if it changes size."
      ]
    },
    {
      "cell_type": "markdown",
      "metadata": {
        "id": "w5_1FLA0NA3i",
        "colab_type": "text"
      },
      "source": [
        "### Practice problems for outside of class\n",
        "Consider the list defined below. In the following code cells, perform the indexing or slicing as instructed in the comment of that cell."
      ]
    },
    {
      "cell_type": "code",
      "metadata": {
        "id": "qD4pow2UNA3j",
        "colab_type": "code",
        "colab": {}
      },
      "source": [
        "# do not code in this cell, it defines your list for this problem\n",
        "p2_list = [1,3,5,9,12,190,320]"
      ],
      "execution_count": 0,
      "outputs": []
    },
    {
      "cell_type": "code",
      "metadata": {
        "id": "4QHjNEigNA3n",
        "colab_type": "code",
        "colab": {}
      },
      "source": [
        "# access the 4th value of testlist using positive indexing"
      ],
      "execution_count": 0,
      "outputs": []
    },
    {
      "cell_type": "code",
      "metadata": {
        "id": "RjuXDHQxNA3q",
        "colab_type": "code",
        "colab": {}
      },
      "source": [
        "# access the 4th value of testlist using negative indexing"
      ],
      "execution_count": 0,
      "outputs": []
    },
    {
      "cell_type": "code",
      "metadata": {
        "id": "n2YGyliaNA3t",
        "colab_type": "code",
        "colab": {}
      },
      "source": [
        "# access the last three values of testlist using positive slicing"
      ],
      "execution_count": 0,
      "outputs": []
    },
    {
      "cell_type": "code",
      "metadata": {
        "id": "caS1RRwyNA3z",
        "colab_type": "code",
        "colab": {}
      },
      "source": [
        "# access the last three values of testlist using negative slicing"
      ],
      "execution_count": 0,
      "outputs": []
    },
    {
      "cell_type": "code",
      "metadata": {
        "id": "dyy8hCrzNA32",
        "colab_type": "code",
        "colab": {}
      },
      "source": [
        "# using slicing, return a list without the first and last values of testlist\n",
        "\n",
        "\n",
        "\n",
        "\n",
        "\n",
        "\n",
        "\n",
        "\n",
        "\n",
        "\n",
        "\n",
        "\n",
        "\n",
        "\n",
        "\n",
        "\n",
        "\n",
        "\n",
        "\n",
        "\n",
        "\n",
        "\n",
        "\n",
        "\n",
        "\n",
        "\n",
        "\n",
        "\n",
        "\n"
      ],
      "execution_count": 0,
      "outputs": []
    },
    {
      "cell_type": "markdown",
      "metadata": {
        "id": "mXQ5O0nhNA36",
        "colab_type": "text"
      },
      "source": [
        "### Practice problems for outside of class (Answers)"
      ]
    },
    {
      "cell_type": "code",
      "metadata": {
        "id": "cRfKNARCNA38",
        "colab_type": "code",
        "colab": {},
        "outputId": "0761b479-1dab-45b5-b8de-489141d4e5de"
      },
      "source": [
        "# access the 4th value of testlist using positive indexing\n",
        "p2_list[3]"
      ],
      "execution_count": 0,
      "outputs": [
        {
          "output_type": "execute_result",
          "data": {
            "text/plain": [
              "9"
            ]
          },
          "metadata": {
            "tags": []
          },
          "execution_count": 43
        }
      ]
    },
    {
      "cell_type": "code",
      "metadata": {
        "id": "uqCdrs9zNA4A",
        "colab_type": "code",
        "colab": {},
        "outputId": "9820ac9e-d199-4154-a185-114fc2b0e3a2"
      },
      "source": [
        "# access the 4th value of testlist using negative indexing\n",
        "p2_list[-4]"
      ],
      "execution_count": 0,
      "outputs": [
        {
          "output_type": "execute_result",
          "data": {
            "text/plain": [
              "9"
            ]
          },
          "metadata": {
            "tags": []
          },
          "execution_count": 44
        }
      ]
    },
    {
      "cell_type": "code",
      "metadata": {
        "id": "3VEGr4RWNA4D",
        "colab_type": "code",
        "colab": {},
        "outputId": "c0f3b0ae-2206-4efe-8f72-a8aa086059c2"
      },
      "source": [
        "# access the last three values of testlist using positive slicing\n",
        "p2_list[4:]"
      ],
      "execution_count": 0,
      "outputs": [
        {
          "output_type": "execute_result",
          "data": {
            "text/plain": [
              "[12, 190, 320]"
            ]
          },
          "metadata": {
            "tags": []
          },
          "execution_count": 45
        }
      ]
    },
    {
      "cell_type": "code",
      "metadata": {
        "id": "RtEJrJdNNA4H",
        "colab_type": "code",
        "colab": {},
        "outputId": "1c43a662-76f2-4897-a91e-826f4a4cea12"
      },
      "source": [
        "# access the last three values of testlist using negative slicing\n",
        "p2_list[-3:]"
      ],
      "execution_count": 0,
      "outputs": [
        {
          "output_type": "execute_result",
          "data": {
            "text/plain": [
              "[12, 190, 320]"
            ]
          },
          "metadata": {
            "tags": []
          },
          "execution_count": 47
        }
      ]
    },
    {
      "cell_type": "code",
      "metadata": {
        "id": "702veT7pNA4K",
        "colab_type": "code",
        "colab": {},
        "outputId": "155cb241-82f4-4375-bc6e-ff91450755af"
      },
      "source": [
        "# using slicing, return a list without the first and last values of testlist\n",
        "p2_list[1:-1]"
      ],
      "execution_count": 0,
      "outputs": [
        {
          "output_type": "execute_result",
          "data": {
            "text/plain": [
              "[3, 5, 9, 12, 190]"
            ]
          },
          "metadata": {
            "tags": []
          },
          "execution_count": 48
        }
      ]
    },
    {
      "cell_type": "markdown",
      "metadata": {
        "id": "necS3zIpNA4O",
        "colab_type": "text"
      },
      "source": [
        "<a id='Loop'></a>\n",
        "\n",
        "# III. Looping through lists\n",
        "You have already been introduced to loops. It is often very useful to iterate through the values of a list using such a loop. \n",
        "\n",
        "Unlike many other languages, Python allows you to loop through all entries in the list directly. Let's test it out:"
      ]
    },
    {
      "cell_type": "code",
      "metadata": {
        "id": "SOb5P-Z8W7M_",
        "colab_type": "code",
        "colab": {
          "base_uri": "https://localhost:8080/",
          "height": 119
        },
        "outputId": "deb3c024-b5ba-43a8-82d2-7a84aa392479"
      },
      "source": [
        "testlist = [9, 2, 3, 4, 5, 6]\n",
        "for x in testlist:\n",
        "  print(x)"
      ],
      "execution_count": 16,
      "outputs": [
        {
          "output_type": "stream",
          "text": [
            "9\n",
            "2\n",
            "3\n",
            "4\n",
            "5\n",
            "6\n"
          ],
          "name": "stdout"
        }
      ]
    },
    {
      "cell_type": "markdown",
      "metadata": {
        "id": "0lgB-kIrNA4Q",
        "colab_type": "text"
      },
      "source": [
        "Sometimes we need indices and values in the same loop, but which is possible using the enumerate function:"
      ]
    },
    {
      "cell_type": "code",
      "metadata": {
        "id": "E1hf2bPMXaIj",
        "colab_type": "code",
        "colab": {
          "base_uri": "https://localhost:8080/",
          "height": 119
        },
        "outputId": "0e3c1bf5-aa6b-47df-ad39-04348348d28a"
      },
      "source": [
        "for index, value in enumerate(testlist):\n",
        "  print(\"At index \"+str(index)+\", value = \"+str(value))"
      ],
      "execution_count": 17,
      "outputs": [
        {
          "output_type": "stream",
          "text": [
            "At index 0, value = 9\n",
            "At index 1, value = 2\n",
            "At index 2, value = 3\n",
            "At index 3, value = 4\n",
            "At index 4, value = 5\n",
            "At index 5, value = 6\n"
          ],
          "name": "stdout"
        }
      ]
    },
    {
      "cell_type": "markdown",
      "metadata": {
        "id": "-HSH4RwgNA4R",
        "colab_type": "text"
      },
      "source": [
        "### Example Problem: Unit Conversion\n",
        "Most of the data at the ISWS are in Imperial Units rather than Metric. That means that unit conversion is often essential, particularly when discussing Illinois issues with a national audience. Convert the heads in the following list from feet to meters. "
      ]
    },
    {
      "cell_type": "code",
      "metadata": {
        "id": "yavf1m_lYkS6",
        "colab_type": "code",
        "colab": {
          "base_uri": "https://localhost:8080/",
          "height": 34
        },
        "outputId": "88a5f45c-bcc5-43e2-d198-cb66b189fba3"
      },
      "source": [
        "# using a loop\n",
        "heads_ft = [682.2, 284.9, 492.6, 780.5] # heads in ft\n",
        "heads_m = [] # heads in m\n",
        "\n",
        "for value in heads_ft:\n",
        "  heads_m.append(value/3.28)\n",
        "\n",
        "print(heads_m)"
      ],
      "execution_count": 18,
      "outputs": [
        {
          "output_type": "stream",
          "text": [
            "[207.98780487804882, 86.85975609756098, 150.1829268292683, 237.95731707317074]\n"
          ],
          "name": "stdout"
        }
      ]
    },
    {
      "cell_type": "code",
      "metadata": {
        "id": "P_ajwO_naEEN",
        "colab_type": "code",
        "colab": {
          "base_uri": "https://localhost:8080/",
          "height": 34
        },
        "outputId": "c77a04aa-eb14-4e95-bed3-77524e615a6e"
      },
      "source": [
        "# list comprehension\n",
        "heads_ft = [682.2, 284.9, 492.6, 780.5] # heads in ft\n",
        "heads_m = [value/3.28 for value in heads_ft]\n",
        "print(heads_m)"
      ],
      "execution_count": 22,
      "outputs": [
        {
          "output_type": "stream",
          "text": [
            "[207.98780487804882, 86.85975609756098, 150.1829268292683, 237.95731707317074]\n"
          ],
          "name": "stdout"
        }
      ]
    },
    {
      "cell_type": "markdown",
      "metadata": {
        "id": "HpdI6mgqNA4S",
        "colab_type": "text"
      },
      "source": [
        "### Example Problem: Darcy's Law"
      ]
    },
    {
      "cell_type": "markdown",
      "metadata": {
        "id": "OMao868UNA4T",
        "colab_type": "text"
      },
      "source": [
        "### Practice Problem: Gallons per year to Cubic Feet per day\n",
        "As we will find out later this semester, the groundwater flow model works with consistent length and time units. Most of the models at the ISWS are in units of $ft$ and $days$, meaning that pumpage has to be assigned as $ft^3/d$. However, pumpage is generally reported to the ISWS by communities as gallons per year.\n",
        "\n",
        "Convert the following reported units ($gallons/year$) to model-ready units ($ft^3/d$)."
      ]
    },
    {
      "cell_type": "code",
      "metadata": {
        "id": "lzVHUMpGNA4U",
        "colab_type": "code",
        "colab": {}
      },
      "source": [
        "# pumpage in gallons per year\n",
        "gpy = [10000000, 32892902, 32890183010, 3801329, 389201473]\n",
        "\n",
        "\n",
        "\n",
        "\n",
        "\n",
        "\n",
        "\n",
        "\n",
        "\n",
        "\n",
        "\n",
        "\n",
        "\n",
        "\n",
        "\n",
        "\n",
        "\n",
        "\n",
        "\n",
        "\n",
        "\n",
        "\n",
        "\n",
        "\n",
        "\n",
        "\n",
        "\n",
        "\n",
        "\n",
        "\n",
        "\n",
        "\n",
        "\n",
        "\n",
        "\n",
        "\n",
        "\n",
        "\n",
        "\n",
        "\n"
      ],
      "execution_count": 0,
      "outputs": []
    },
    {
      "cell_type": "code",
      "metadata": {
        "id": "T96vbOwZNA4Y",
        "colab_type": "code",
        "colab": {},
        "outputId": "eed76f47-0816-4ffc-87f1-7e2d80769c5d"
      },
      "source": [
        "# Answer\n",
        "cfd = [0.133681*x/365.25 for x in gpy]\n",
        "print(cfd)"
      ],
      "execution_count": 0,
      "outputs": [
        {
          "output_type": "stream",
          "text": [
            "[3659.986310746064, 12038.757104071185, 12037761.957453279, 1391.2812102642024, 142447.2063302204]\n"
          ],
          "name": "stdout"
        }
      ]
    },
    {
      "cell_type": "markdown",
      "metadata": {
        "id": "eTG9cjvtNA4b",
        "colab_type": "text"
      },
      "source": [
        "<a id='Plotting'></a>\n",
        "# IV. Plotting data\n",
        "One of the more powerful libraries for Python is MatplotLib. Although mostly used for 2D plotting it does have some 3D plotting capabilities. For now, let's make a simple x-y plot from two lists. The first list defines the time (x) axis in years, while the second defines the observed head in ft above mean sea level."
      ]
    },
    {
      "cell_type": "code",
      "metadata": {
        "id": "45e0EawdNA4c",
        "colab_type": "code",
        "colab": {}
      },
      "source": [
        "# time in years\n",
        "timerange = [2000,2001,2002,2003,2004,2005,2006,2008,2009,2010,2011,2012,2013,2014,2015,2016,2017,2018]\n",
        "# head in feet above mean sea level\n",
        "headrange = [91, 34, 16, 14, 12, 5, -11, -31, -49, -59, -77, -116, -119, -148, -161, -178, -183, -184]"
      ],
      "execution_count": 0,
      "outputs": []
    },
    {
      "cell_type": "markdown",
      "metadata": {
        "id": "PGYugfoLNA4f",
        "colab_type": "text"
      },
      "source": [
        "The MatplotLib library is quite expansive, so it is useful to import the entire library as well as subsets (simply for code briefness).\n",
        "\n",
        "In addition, `%matplotlib inline` is a command for Jupyter Notebook that improves the display of plots. It is not used in Python code outside of Jupyter."
      ]
    },
    {
      "cell_type": "code",
      "metadata": {
        "id": "4_NT9bBybZ-l",
        "colab_type": "code",
        "colab": {}
      },
      "source": [
        "import matplotlib as mp\n",
        "import matplotlib.pyplot as plt\n",
        "%matplotlib inline"
      ],
      "execution_count": 0,
      "outputs": []
    },
    {
      "cell_type": "code",
      "metadata": {
        "id": "VICL2UbicI5P",
        "colab_type": "code",
        "colab": {
          "base_uri": "https://localhost:8080/",
          "height": 266
        },
        "outputId": "44582f4d-f60e-428b-c5b0-a9d339be4d99"
      },
      "source": [
        "plt.scatter(timerange, headrange)\n",
        "plt.show()"
      ],
      "execution_count": 25,
      "outputs": [
        {
          "output_type": "display_data",
          "data": {
            "image/png": "[encoded data removed]",
            "text/plain": [
              "<Figure size 432x288 with 1 Axes>"
            ]
          },
          "metadata": {
            "tags": []
          }
        }
      ]
    },
    {
      "cell_type": "markdown",
      "metadata": {
        "id": "motMFPd8NA4g",
        "colab_type": "text"
      },
      "source": [
        "Now let's add labels and a title."
      ]
    },
    {
      "cell_type": "code",
      "metadata": {
        "id": "jz3cUoUjc4w4",
        "colab_type": "code",
        "colab": {
          "base_uri": "https://localhost:8080/",
          "height": 315
        },
        "outputId": "efe6a6f7-cc6f-44b9-bc04-6689fe15eb5d"
      },
      "source": [
        "plt.scatter(timerange, headrange)\n",
        "plt.title('Head decline (ft)',fontsize = 15)\n",
        "plt.xlabel('Year',fontsize = 13)\n",
        "plt.ylabel('Head (ft AMSL)',fontsize = 13)\n",
        "plt.xlim(2000,2018)\n",
        "plt.xticks(range(2000,2019,2),rotation = 45)\n",
        "plt.show()"
      ],
      "execution_count": 30,
      "outputs": [
        {
          "output_type": "display_data",
          "data": {
            "image/png": "[encoded data removed]",
            "text/plain": [
              "<Figure size 432x288 with 1 Axes>"
            ]
          },
          "metadata": {
            "tags": []
          }
        }
      ]
    },
    {
      "cell_type": "markdown",
      "metadata": {
        "id": "BixwEM7sNA4i",
        "colab_type": "text"
      },
      "source": [
        "On the axes, let's make the time axis as integers and rotate the tick-values by 45 degrees. Let's also set the y-axis to a range of -300 to 200 ft. There are also a few other modifications to font size that are added to this code."
      ]
    }
  ]
}